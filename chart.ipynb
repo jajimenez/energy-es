{
 "cells": [
  {
   "cell_type": "code",
   "execution_count": 3,
   "id": "0d1a1a31",
   "metadata": {},
   "outputs": [],
   "source": [
    "from datetime import datetime\n",
    "from zoneinfo import ZoneInfo\n",
    "\n",
    "import numpy as np\n",
    "import pandas as pd\n",
    "import plotly.graph_objects as go\n",
    "from ipywidgets import Dropdown\n",
    "\n",
    "import sys\n",
    "sys.path.append(\"src\")\n",
    "\n",
    "from energy_es.data.prices import PricesManager"
   ]
  },
  {
   "cell_type": "code",
   "execution_count": 4,
   "id": "7d94dd6e",
   "metadata": {},
   "outputs": [
    {
     "data": {
      "application/vnd.jupyter.widget-view+json": {
       "model_id": "b4868a28301a4ae8801802ea767e43b9",
       "version_major": 2,
       "version_minor": 0
      },
      "text/plain": [
       "Dropdown(options=(('€/KWh', 'k'), ('€/MWh', 'm')), value='k')"
      ]
     },
     "execution_count": 4,
     "metadata": {},
     "output_type": "execute_result"
    }
   ],
   "source": [
    "# Price unit\n",
    "unit_wid = Dropdown(options=[(\"€/KWh\", \"k\"), (\"€/MWh\", \"m\")], value=\"k\")\n",
    "unit_wid"
   ]
  },
  {
   "cell_type": "code",
   "execution_count": 5,
   "id": "98a5bb15",
   "metadata": {},
   "outputs": [
    {
     "name": "stdout",
     "output_type": "stream",
     "text": [
      "Price unit selected: €/KWh\n"
     ]
    }
   ],
   "source": [
    "unit = unit_wid.value\n",
    "unit_label = unit_wid.label\n",
    "\n",
    "print(\"Price unit selected:\", unit_label)"
   ]
  },
  {
   "cell_type": "markdown",
   "id": "5518a1a1",
   "metadata": {},
   "source": [
    "# Get data"
   ]
  },
  {
   "cell_type": "code",
   "execution_count": 6,
   "id": "d6996a5b",
   "metadata": {},
   "outputs": [
    {
     "name": "stdout",
     "output_type": "stream",
     "text": [
      "1671150803.850847\n",
      "€/KWh\n",
      "{'time': '00:00', 'spot_market': 0.13, 'pvpc_pcb': 0.22596, 'pvpc_cm': 0.22596}\n"
     ]
    }
   ],
   "source": [
    "pm = PricesManager()\n",
    "prices = pm.get_prices(unit)\n",
    "\n",
    "updated = prices[\"updated\"]\n",
    "price_unit = prices[\"price_unit\"]\n",
    "data = prices[\"data\"]\n",
    "\n",
    "print(updated)\n",
    "print(price_unit)\n",
    "print(data[0])  # Sample"
   ]
  },
  {
   "cell_type": "markdown",
   "id": "33c9ba35",
   "metadata": {},
   "source": [
    "# Title and source"
   ]
  },
  {
   "cell_type": "code",
   "execution_count": 7,
   "id": "a5075dde",
   "metadata": {},
   "outputs": [
    {
     "name": "stdout",
     "output_type": "stream",
     "text": [
      "Electricity price (€/KWh) in Spain for Friday 16 December 2022 (CET)\n",
      "Data source: Red Eléctrica de España\n"
     ]
    }
   ],
   "source": [
    "dt = datetime.fromtimestamp(updated).astimezone(ZoneInfo(\"Europe/Madrid\"))\n",
    "dt = dt.strftime(f\"%A {dt.day} %B %Y (%Z)\")\n",
    "\n",
    "title = f\"Electricity price ({price_unit}) in Spain for {dt}\"\n",
    "source = \"Data source: Red Eléctrica de España\"\n",
    "\n",
    "print(title)\n",
    "print(source)"
   ]
  },
  {
   "cell_type": "markdown",
   "id": "92f0044d",
   "metadata": {},
   "source": [
    "# Create dataframe"
   ]
  },
  {
   "cell_type": "code",
   "execution_count": 8,
   "id": "ea9d565a",
   "metadata": {},
   "outputs": [
    {
     "data": {
      "text/html": [
       "<div>\n",
       "<style scoped>\n",
       "    .dataframe tbody tr th:only-of-type {\n",
       "        vertical-align: middle;\n",
       "    }\n",
       "\n",
       "    .dataframe tbody tr th {\n",
       "        vertical-align: top;\n",
       "    }\n",
       "\n",
       "    .dataframe thead th {\n",
       "        text-align: right;\n",
       "    }\n",
       "</style>\n",
       "<table border=\"1\" class=\"dataframe\">\n",
       "  <thead>\n",
       "    <tr style=\"text-align: right;\">\n",
       "      <th></th>\n",
       "      <th>time</th>\n",
       "      <th>spot_market</th>\n",
       "      <th>pvpc_pcb</th>\n",
       "      <th>pvpc_cm</th>\n",
       "      <th>spot_market_text</th>\n",
       "      <th>spot_market_text_position</th>\n",
       "      <th>pvpc_pcb_text</th>\n",
       "      <th>pvpc_pcb_text_position</th>\n",
       "      <th>pvpc_cm_text</th>\n",
       "      <th>pvpc_cm_text_position</th>\n",
       "    </tr>\n",
       "  </thead>\n",
       "  <tbody>\n",
       "    <tr>\n",
       "      <th>0</th>\n",
       "      <td>00:00</td>\n",
       "      <td>0.13000</td>\n",
       "      <td>0.22596</td>\n",
       "      <td>0.22596</td>\n",
       "      <td>None</td>\n",
       "      <td>top center</td>\n",
       "      <td>None</td>\n",
       "      <td>top center</td>\n",
       "      <td>None</td>\n",
       "      <td>top center</td>\n",
       "    </tr>\n",
       "    <tr>\n",
       "      <th>1</th>\n",
       "      <td>01:00</td>\n",
       "      <td>0.12274</td>\n",
       "      <td>0.22066</td>\n",
       "      <td>0.22066</td>\n",
       "      <td>None</td>\n",
       "      <td>top center</td>\n",
       "      <td>None</td>\n",
       "      <td>top center</td>\n",
       "      <td>None</td>\n",
       "      <td>top center</td>\n",
       "    </tr>\n",
       "    <tr>\n",
       "      <th>2</th>\n",
       "      <td>02:00</td>\n",
       "      <td>0.11200</td>\n",
       "      <td>0.21213</td>\n",
       "      <td>0.21213</td>\n",
       "      <td>None</td>\n",
       "      <td>top center</td>\n",
       "      <td>None</td>\n",
       "      <td>top center</td>\n",
       "      <td>None</td>\n",
       "      <td>top center</td>\n",
       "    </tr>\n",
       "    <tr>\n",
       "      <th>3</th>\n",
       "      <td>03:00</td>\n",
       "      <td>0.10368</td>\n",
       "      <td>0.20442</td>\n",
       "      <td>0.20442</td>\n",
       "      <td>None</td>\n",
       "      <td>top center</td>\n",
       "      <td>None</td>\n",
       "      <td>top center</td>\n",
       "      <td>None</td>\n",
       "      <td>top center</td>\n",
       "    </tr>\n",
       "    <tr>\n",
       "      <th>4</th>\n",
       "      <td>04:00</td>\n",
       "      <td>0.10100</td>\n",
       "      <td>0.19963</td>\n",
       "      <td>0.19963</td>\n",
       "      <td>&lt;b&gt;MIN&lt;/b&gt;</td>\n",
       "      <td>bottom center</td>\n",
       "      <td>&lt;b&gt;MIN&lt;/b&gt;</td>\n",
       "      <td>bottom center</td>\n",
       "      <td>&lt;b&gt;MIN&lt;/b&gt;</td>\n",
       "      <td>bottom center</td>\n",
       "    </tr>\n",
       "    <tr>\n",
       "      <th>5</th>\n",
       "      <td>05:00</td>\n",
       "      <td>0.10368</td>\n",
       "      <td>0.20195</td>\n",
       "      <td>0.20195</td>\n",
       "      <td>None</td>\n",
       "      <td>top center</td>\n",
       "      <td>None</td>\n",
       "      <td>top center</td>\n",
       "      <td>None</td>\n",
       "      <td>top center</td>\n",
       "    </tr>\n",
       "    <tr>\n",
       "      <th>6</th>\n",
       "      <td>06:00</td>\n",
       "      <td>0.11101</td>\n",
       "      <td>0.20344</td>\n",
       "      <td>0.20344</td>\n",
       "      <td>None</td>\n",
       "      <td>top center</td>\n",
       "      <td>None</td>\n",
       "      <td>top center</td>\n",
       "      <td>None</td>\n",
       "      <td>top center</td>\n",
       "    </tr>\n",
       "    <tr>\n",
       "      <th>7</th>\n",
       "      <td>07:00</td>\n",
       "      <td>0.12208</td>\n",
       "      <td>0.20205</td>\n",
       "      <td>0.20205</td>\n",
       "      <td>None</td>\n",
       "      <td>top center</td>\n",
       "      <td>None</td>\n",
       "      <td>top center</td>\n",
       "      <td>None</td>\n",
       "      <td>top center</td>\n",
       "    </tr>\n",
       "    <tr>\n",
       "      <th>8</th>\n",
       "      <td>08:00</td>\n",
       "      <td>0.14000</td>\n",
       "      <td>0.24298</td>\n",
       "      <td>0.24298</td>\n",
       "      <td>None</td>\n",
       "      <td>top center</td>\n",
       "      <td>None</td>\n",
       "      <td>top center</td>\n",
       "      <td>None</td>\n",
       "      <td>top center</td>\n",
       "    </tr>\n",
       "    <tr>\n",
       "      <th>9</th>\n",
       "      <td>09:00</td>\n",
       "      <td>0.13482</td>\n",
       "      <td>0.23432</td>\n",
       "      <td>0.23432</td>\n",
       "      <td>None</td>\n",
       "      <td>top center</td>\n",
       "      <td>None</td>\n",
       "      <td>top center</td>\n",
       "      <td>None</td>\n",
       "      <td>top center</td>\n",
       "    </tr>\n",
       "    <tr>\n",
       "      <th>10</th>\n",
       "      <td>10:00</td>\n",
       "      <td>0.13130</td>\n",
       "      <td>0.27658</td>\n",
       "      <td>0.22851</td>\n",
       "      <td>None</td>\n",
       "      <td>top center</td>\n",
       "      <td>None</td>\n",
       "      <td>top center</td>\n",
       "      <td>None</td>\n",
       "      <td>top center</td>\n",
       "    </tr>\n",
       "    <tr>\n",
       "      <th>11</th>\n",
       "      <td>11:00</td>\n",
       "      <td>0.12274</td>\n",
       "      <td>0.26729</td>\n",
       "      <td>0.26729</td>\n",
       "      <td>None</td>\n",
       "      <td>top center</td>\n",
       "      <td>None</td>\n",
       "      <td>top center</td>\n",
       "      <td>None</td>\n",
       "      <td>top center</td>\n",
       "    </tr>\n",
       "    <tr>\n",
       "      <th>12</th>\n",
       "      <td>12:00</td>\n",
       "      <td>0.12208</td>\n",
       "      <td>0.26894</td>\n",
       "      <td>0.26894</td>\n",
       "      <td>None</td>\n",
       "      <td>top center</td>\n",
       "      <td>None</td>\n",
       "      <td>top center</td>\n",
       "      <td>None</td>\n",
       "      <td>top center</td>\n",
       "    </tr>\n",
       "    <tr>\n",
       "      <th>13</th>\n",
       "      <td>13:00</td>\n",
       "      <td>0.12208</td>\n",
       "      <td>0.26987</td>\n",
       "      <td>0.26987</td>\n",
       "      <td>None</td>\n",
       "      <td>top center</td>\n",
       "      <td>None</td>\n",
       "      <td>top center</td>\n",
       "      <td>None</td>\n",
       "      <td>top center</td>\n",
       "    </tr>\n",
       "    <tr>\n",
       "      <th>14</th>\n",
       "      <td>14:00</td>\n",
       "      <td>0.11979</td>\n",
       "      <td>0.21938</td>\n",
       "      <td>0.26741</td>\n",
       "      <td>None</td>\n",
       "      <td>top center</td>\n",
       "      <td>None</td>\n",
       "      <td>top center</td>\n",
       "      <td>None</td>\n",
       "      <td>top center</td>\n",
       "    </tr>\n",
       "    <tr>\n",
       "      <th>15</th>\n",
       "      <td>15:00</td>\n",
       "      <td>0.12208</td>\n",
       "      <td>0.22618</td>\n",
       "      <td>0.22618</td>\n",
       "      <td>None</td>\n",
       "      <td>top center</td>\n",
       "      <td>None</td>\n",
       "      <td>top center</td>\n",
       "      <td>None</td>\n",
       "      <td>top center</td>\n",
       "    </tr>\n",
       "    <tr>\n",
       "      <th>16</th>\n",
       "      <td>16:00</td>\n",
       "      <td>0.14057</td>\n",
       "      <td>0.25095</td>\n",
       "      <td>0.25095</td>\n",
       "      <td>None</td>\n",
       "      <td>top center</td>\n",
       "      <td>None</td>\n",
       "      <td>top center</td>\n",
       "      <td>None</td>\n",
       "      <td>top center</td>\n",
       "    </tr>\n",
       "    <tr>\n",
       "      <th>17</th>\n",
       "      <td>17:00</td>\n",
       "      <td>0.14234</td>\n",
       "      <td>0.25233</td>\n",
       "      <td>0.25233</td>\n",
       "      <td>None</td>\n",
       "      <td>top center</td>\n",
       "      <td>None</td>\n",
       "      <td>top center</td>\n",
       "      <td>None</td>\n",
       "      <td>top center</td>\n",
       "    </tr>\n",
       "    <tr>\n",
       "      <th>18</th>\n",
       "      <td>18:00</td>\n",
       "      <td>0.15174</td>\n",
       "      <td>0.31351</td>\n",
       "      <td>0.26532</td>\n",
       "      <td>None</td>\n",
       "      <td>top center</td>\n",
       "      <td>None</td>\n",
       "      <td>top center</td>\n",
       "      <td>None</td>\n",
       "      <td>top center</td>\n",
       "    </tr>\n",
       "    <tr>\n",
       "      <th>19</th>\n",
       "      <td>19:00</td>\n",
       "      <td>0.15422</td>\n",
       "      <td>0.31664</td>\n",
       "      <td>0.31664</td>\n",
       "      <td>None</td>\n",
       "      <td>top center</td>\n",
       "      <td>None</td>\n",
       "      <td>top center</td>\n",
       "      <td>None</td>\n",
       "      <td>top center</td>\n",
       "    </tr>\n",
       "    <tr>\n",
       "      <th>20</th>\n",
       "      <td>20:00</td>\n",
       "      <td>0.15501</td>\n",
       "      <td>0.31946</td>\n",
       "      <td>0.31946</td>\n",
       "      <td>&lt;b&gt;MAX&lt;/b&gt;</td>\n",
       "      <td>top center</td>\n",
       "      <td>&lt;b&gt;MAX&lt;/b&gt;</td>\n",
       "      <td>top center</td>\n",
       "      <td>&lt;b&gt;MAX&lt;/b&gt;</td>\n",
       "      <td>top center</td>\n",
       "    </tr>\n",
       "    <tr>\n",
       "      <th>21</th>\n",
       "      <td>21:00</td>\n",
       "      <td>0.15000</td>\n",
       "      <td>0.31755</td>\n",
       "      <td>0.31755</td>\n",
       "      <td>None</td>\n",
       "      <td>top center</td>\n",
       "      <td>None</td>\n",
       "      <td>top center</td>\n",
       "      <td>None</td>\n",
       "      <td>top center</td>\n",
       "    </tr>\n",
       "    <tr>\n",
       "      <th>22</th>\n",
       "      <td>22:00</td>\n",
       "      <td>0.13700</td>\n",
       "      <td>0.26012</td>\n",
       "      <td>0.30850</td>\n",
       "      <td>None</td>\n",
       "      <td>top center</td>\n",
       "      <td>None</td>\n",
       "      <td>top center</td>\n",
       "      <td>None</td>\n",
       "      <td>top center</td>\n",
       "    </tr>\n",
       "    <tr>\n",
       "      <th>23</th>\n",
       "      <td>23:00</td>\n",
       "      <td>0.13482</td>\n",
       "      <td>0.25885</td>\n",
       "      <td>0.25885</td>\n",
       "      <td>None</td>\n",
       "      <td>top center</td>\n",
       "      <td>None</td>\n",
       "      <td>top center</td>\n",
       "      <td>None</td>\n",
       "      <td>top center</td>\n",
       "    </tr>\n",
       "  </tbody>\n",
       "</table>\n",
       "</div>"
      ],
      "text/plain": [
       "     time  spot_market  pvpc_pcb  pvpc_cm spot_market_text  \\\n",
       "0   00:00      0.13000   0.22596  0.22596             None   \n",
       "1   01:00      0.12274   0.22066  0.22066             None   \n",
       "2   02:00      0.11200   0.21213  0.21213             None   \n",
       "3   03:00      0.10368   0.20442  0.20442             None   \n",
       "4   04:00      0.10100   0.19963  0.19963       <b>MIN</b>   \n",
       "5   05:00      0.10368   0.20195  0.20195             None   \n",
       "6   06:00      0.11101   0.20344  0.20344             None   \n",
       "7   07:00      0.12208   0.20205  0.20205             None   \n",
       "8   08:00      0.14000   0.24298  0.24298             None   \n",
       "9   09:00      0.13482   0.23432  0.23432             None   \n",
       "10  10:00      0.13130   0.27658  0.22851             None   \n",
       "11  11:00      0.12274   0.26729  0.26729             None   \n",
       "12  12:00      0.12208   0.26894  0.26894             None   \n",
       "13  13:00      0.12208   0.26987  0.26987             None   \n",
       "14  14:00      0.11979   0.21938  0.26741             None   \n",
       "15  15:00      0.12208   0.22618  0.22618             None   \n",
       "16  16:00      0.14057   0.25095  0.25095             None   \n",
       "17  17:00      0.14234   0.25233  0.25233             None   \n",
       "18  18:00      0.15174   0.31351  0.26532             None   \n",
       "19  19:00      0.15422   0.31664  0.31664             None   \n",
       "20  20:00      0.15501   0.31946  0.31946       <b>MAX</b>   \n",
       "21  21:00      0.15000   0.31755  0.31755             None   \n",
       "22  22:00      0.13700   0.26012  0.30850             None   \n",
       "23  23:00      0.13482   0.25885  0.25885             None   \n",
       "\n",
       "   spot_market_text_position pvpc_pcb_text pvpc_pcb_text_position  \\\n",
       "0                 top center          None             top center   \n",
       "1                 top center          None             top center   \n",
       "2                 top center          None             top center   \n",
       "3                 top center          None             top center   \n",
       "4              bottom center    <b>MIN</b>          bottom center   \n",
       "5                 top center          None             top center   \n",
       "6                 top center          None             top center   \n",
       "7                 top center          None             top center   \n",
       "8                 top center          None             top center   \n",
       "9                 top center          None             top center   \n",
       "10                top center          None             top center   \n",
       "11                top center          None             top center   \n",
       "12                top center          None             top center   \n",
       "13                top center          None             top center   \n",
       "14                top center          None             top center   \n",
       "15                top center          None             top center   \n",
       "16                top center          None             top center   \n",
       "17                top center          None             top center   \n",
       "18                top center          None             top center   \n",
       "19                top center          None             top center   \n",
       "20                top center    <b>MAX</b>             top center   \n",
       "21                top center          None             top center   \n",
       "22                top center          None             top center   \n",
       "23                top center          None             top center   \n",
       "\n",
       "   pvpc_cm_text pvpc_cm_text_position  \n",
       "0          None            top center  \n",
       "1          None            top center  \n",
       "2          None            top center  \n",
       "3          None            top center  \n",
       "4    <b>MIN</b>         bottom center  \n",
       "5          None            top center  \n",
       "6          None            top center  \n",
       "7          None            top center  \n",
       "8          None            top center  \n",
       "9          None            top center  \n",
       "10         None            top center  \n",
       "11         None            top center  \n",
       "12         None            top center  \n",
       "13         None            top center  \n",
       "14         None            top center  \n",
       "15         None            top center  \n",
       "16         None            top center  \n",
       "17         None            top center  \n",
       "18         None            top center  \n",
       "19         None            top center  \n",
       "20   <b>MAX</b>            top center  \n",
       "21         None            top center  \n",
       "22         None            top center  \n",
       "23         None            top center  "
      ]
     },
     "execution_count": 8,
     "metadata": {},
     "output_type": "execute_result"
    }
   ],
   "source": [
    "prices_df = pd.DataFrame(data)\n",
    "\n",
    "text = [\"<b>MIN</b>\", \"<b>MAX</b>\"]\n",
    "text_pos = [\"bottom center\", \"top center\"]\n",
    "\n",
    "for c in (\"spot_market\", \"pvpc_pcb\", \"pvpc_cm\"):\n",
    "    cond = [\n",
    "        prices_df[c] == prices_df[c].min(),\n",
    "        prices_df[c] == prices_df[c].max()\n",
    "    ]\n",
    "    \n",
    "    prices_df[f\"{c}_text\"] = np.select(cond, text, default=None)\n",
    "\n",
    "    prices_df[f\"{c}_text_position\"] = (\n",
    "        np.select(cond, text_pos, default=\"top center\")\n",
    "    )\n",
    "\n",
    "prices_df"
   ]
  },
  {
   "cell_type": "markdown",
   "id": "e531a60c",
   "metadata": {},
   "source": [
    "# Create chart"
   ]
  },
  {
   "cell_type": "code",
   "execution_count": 19,
   "id": "3db4f612",
   "metadata": {},
   "outputs": [
    {
     "data": {
      "application/vnd.plotly.v1+json": {
       "config": {
        "displayModeBar": false,
        "plotlyServerURL": "https://plot.ly"
       },
       "data": [
        {
         "hoverlabel": {
          "namelength": 0
         },
         "hovertemplate": "<b>Spot Market</b><br>Time: &nbsp;%{x}<br>Price: &nbsp;%{y} €/KWh",
         "line": {
          "color": "#2077b4",
          "width": 3
         },
         "marker": {
          "color": "#2077b4",
          "size": 12
         },
         "mode": "lines+markers+text",
         "name": "Spot Market price",
         "text": [
          null,
          null,
          null,
          null,
          "<b>MIN</b>",
          null,
          null,
          null,
          null,
          null,
          null,
          null,
          null,
          null,
          null,
          null,
          null,
          null,
          null,
          null,
          "<b>MAX</b>",
          null,
          null,
          null
         ],
         "textfont": {
          "color": "#2077b4"
         },
         "textposition": [
          "top center",
          "top center",
          "top center",
          "top center",
          "bottom center",
          "top center",
          "top center",
          "top center",
          "top center",
          "top center",
          "top center",
          "top center",
          "top center",
          "top center",
          "top center",
          "top center",
          "top center",
          "top center",
          "top center",
          "top center",
          "top center",
          "top center",
          "top center",
          "top center"
         ],
         "type": "scatter",
         "x": [
          "00:00",
          "01:00",
          "02:00",
          "03:00",
          "04:00",
          "05:00",
          "06:00",
          "07:00",
          "08:00",
          "09:00",
          "10:00",
          "11:00",
          "12:00",
          "13:00",
          "14:00",
          "15:00",
          "16:00",
          "17:00",
          "18:00",
          "19:00",
          "20:00",
          "21:00",
          "22:00",
          "23:00"
         ],
         "y": [
          0.13,
          0.12274,
          0.112,
          0.10368,
          0.101,
          0.10368,
          0.11101,
          0.12208,
          0.14,
          0.13482,
          0.1313,
          0.12274,
          0.12208,
          0.12208,
          0.11979,
          0.12208,
          0.14057,
          0.14234,
          0.15174,
          0.15422,
          0.15501,
          0.15,
          0.137,
          0.13482
         ]
        },
        {
         "hoverlabel": {
          "namelength": 0
         },
         "hovertemplate": "<b>PVPC (Ceuta and Melilla)</b><br>Time: &nbsp;%{x}<br>Price: &nbsp;%{y} €/KWh",
         "line": {
          "color": "#00a002",
          "width": 3
         },
         "marker": {
          "color": "#00a002",
          "size": 12
         },
         "mode": "lines+markers+text",
         "name": "<br>PVPC price<br>(Ceuta and Melilla)<br>",
         "text": [
          null,
          null,
          null,
          null,
          "<b>MIN</b>",
          null,
          null,
          null,
          null,
          null,
          null,
          null,
          null,
          null,
          null,
          null,
          null,
          null,
          null,
          null,
          "<b>MAX</b>",
          null,
          null,
          null
         ],
         "textfont": {
          "color": "#00a002"
         },
         "textposition": [
          "top center",
          "top center",
          "top center",
          "top center",
          "bottom center",
          "top center",
          "top center",
          "top center",
          "top center",
          "top center",
          "top center",
          "top center",
          "top center",
          "top center",
          "top center",
          "top center",
          "top center",
          "top center",
          "top center",
          "top center",
          "top center",
          "top center",
          "top center",
          "top center"
         ],
         "type": "scatter",
         "x": [
          "00:00",
          "01:00",
          "02:00",
          "03:00",
          "04:00",
          "05:00",
          "06:00",
          "07:00",
          "08:00",
          "09:00",
          "10:00",
          "11:00",
          "12:00",
          "13:00",
          "14:00",
          "15:00",
          "16:00",
          "17:00",
          "18:00",
          "19:00",
          "20:00",
          "21:00",
          "22:00",
          "23:00"
         ],
         "y": [
          0.22596,
          0.22066,
          0.21213,
          0.20442,
          0.19963,
          0.20195,
          0.20344,
          0.20205,
          0.24298,
          0.23432,
          0.22851,
          0.26729,
          0.26894,
          0.26987,
          0.26741,
          0.22618,
          0.25095,
          0.25233,
          0.26532,
          0.31664,
          0.31946,
          0.31755,
          0.3085,
          0.25885
         ]
        },
        {
         "hoverlabel": {
          "namelength": 0
         },
         "hovertemplate": "<b>PVPC (Peninsula, Canarias and Baleares)</b><br>Time: &nbsp;%{x}<br>Price: &nbsp;%{y} €/KWh",
         "line": {
          "color": "#ff8c00",
          "width": 3
         },
         "marker": {
          "color": "#ff8c00",
          "size": 12
         },
         "mode": "lines+markers+text",
         "name": "PVPC price<br>(Peninsula, Canarias<br>and Baleares)",
         "text": [
          null,
          null,
          null,
          null,
          "<b>MIN</b>",
          null,
          null,
          null,
          null,
          null,
          null,
          null,
          null,
          null,
          null,
          null,
          null,
          null,
          null,
          null,
          "<b>MAX</b>",
          null,
          null,
          null
         ],
         "textfont": {
          "color": "#ff8c00"
         },
         "textposition": [
          "top center",
          "top center",
          "top center",
          "top center",
          "bottom center",
          "top center",
          "top center",
          "top center",
          "top center",
          "top center",
          "top center",
          "top center",
          "top center",
          "top center",
          "top center",
          "top center",
          "top center",
          "top center",
          "top center",
          "top center",
          "top center",
          "top center",
          "top center",
          "top center"
         ],
         "type": "scatter",
         "x": [
          "00:00",
          "01:00",
          "02:00",
          "03:00",
          "04:00",
          "05:00",
          "06:00",
          "07:00",
          "08:00",
          "09:00",
          "10:00",
          "11:00",
          "12:00",
          "13:00",
          "14:00",
          "15:00",
          "16:00",
          "17:00",
          "18:00",
          "19:00",
          "20:00",
          "21:00",
          "22:00",
          "23:00"
         ],
         "y": [
          0.22596,
          0.22066,
          0.21213,
          0.20442,
          0.19963,
          0.20195,
          0.20344,
          0.20205,
          0.24298,
          0.23432,
          0.27658,
          0.26729,
          0.26894,
          0.26987,
          0.21938,
          0.22618,
          0.25095,
          0.25233,
          0.31351,
          0.31664,
          0.31946,
          0.31755,
          0.26012,
          0.25885
         ]
        }
       ],
       "layout": {
        "legend": {
         "itemdoubleclick": false
        },
        "margin": {
         "t": 65
        },
        "plot_bgcolor": "white",
        "template": {
         "data": {
          "bar": [
           {
            "error_x": {
             "color": "#2a3f5f"
            },
            "error_y": {
             "color": "#2a3f5f"
            },
            "marker": {
             "line": {
              "color": "#E5ECF6",
              "width": 0.5
             },
             "pattern": {
              "fillmode": "overlay",
              "size": 10,
              "solidity": 0.2
             }
            },
            "type": "bar"
           }
          ],
          "barpolar": [
           {
            "marker": {
             "line": {
              "color": "#E5ECF6",
              "width": 0.5
             },
             "pattern": {
              "fillmode": "overlay",
              "size": 10,
              "solidity": 0.2
             }
            },
            "type": "barpolar"
           }
          ],
          "carpet": [
           {
            "aaxis": {
             "endlinecolor": "#2a3f5f",
             "gridcolor": "white",
             "linecolor": "white",
             "minorgridcolor": "white",
             "startlinecolor": "#2a3f5f"
            },
            "baxis": {
             "endlinecolor": "#2a3f5f",
             "gridcolor": "white",
             "linecolor": "white",
             "minorgridcolor": "white",
             "startlinecolor": "#2a3f5f"
            },
            "type": "carpet"
           }
          ],
          "choropleth": [
           {
            "colorbar": {
             "outlinewidth": 0,
             "ticks": ""
            },
            "type": "choropleth"
           }
          ],
          "contour": [
           {
            "colorbar": {
             "outlinewidth": 0,
             "ticks": ""
            },
            "colorscale": [
             [
              0,
              "#0d0887"
             ],
             [
              0.1111111111111111,
              "#46039f"
             ],
             [
              0.2222222222222222,
              "#7201a8"
             ],
             [
              0.3333333333333333,
              "#9c179e"
             ],
             [
              0.4444444444444444,
              "#bd3786"
             ],
             [
              0.5555555555555556,
              "#d8576b"
             ],
             [
              0.6666666666666666,
              "#ed7953"
             ],
             [
              0.7777777777777778,
              "#fb9f3a"
             ],
             [
              0.8888888888888888,
              "#fdca26"
             ],
             [
              1,
              "#f0f921"
             ]
            ],
            "type": "contour"
           }
          ],
          "contourcarpet": [
           {
            "colorbar": {
             "outlinewidth": 0,
             "ticks": ""
            },
            "type": "contourcarpet"
           }
          ],
          "heatmap": [
           {
            "colorbar": {
             "outlinewidth": 0,
             "ticks": ""
            },
            "colorscale": [
             [
              0,
              "#0d0887"
             ],
             [
              0.1111111111111111,
              "#46039f"
             ],
             [
              0.2222222222222222,
              "#7201a8"
             ],
             [
              0.3333333333333333,
              "#9c179e"
             ],
             [
              0.4444444444444444,
              "#bd3786"
             ],
             [
              0.5555555555555556,
              "#d8576b"
             ],
             [
              0.6666666666666666,
              "#ed7953"
             ],
             [
              0.7777777777777778,
              "#fb9f3a"
             ],
             [
              0.8888888888888888,
              "#fdca26"
             ],
             [
              1,
              "#f0f921"
             ]
            ],
            "type": "heatmap"
           }
          ],
          "heatmapgl": [
           {
            "colorbar": {
             "outlinewidth": 0,
             "ticks": ""
            },
            "colorscale": [
             [
              0,
              "#0d0887"
             ],
             [
              0.1111111111111111,
              "#46039f"
             ],
             [
              0.2222222222222222,
              "#7201a8"
             ],
             [
              0.3333333333333333,
              "#9c179e"
             ],
             [
              0.4444444444444444,
              "#bd3786"
             ],
             [
              0.5555555555555556,
              "#d8576b"
             ],
             [
              0.6666666666666666,
              "#ed7953"
             ],
             [
              0.7777777777777778,
              "#fb9f3a"
             ],
             [
              0.8888888888888888,
              "#fdca26"
             ],
             [
              1,
              "#f0f921"
             ]
            ],
            "type": "heatmapgl"
           }
          ],
          "histogram": [
           {
            "marker": {
             "pattern": {
              "fillmode": "overlay",
              "size": 10,
              "solidity": 0.2
             }
            },
            "type": "histogram"
           }
          ],
          "histogram2d": [
           {
            "colorbar": {
             "outlinewidth": 0,
             "ticks": ""
            },
            "colorscale": [
             [
              0,
              "#0d0887"
             ],
             [
              0.1111111111111111,
              "#46039f"
             ],
             [
              0.2222222222222222,
              "#7201a8"
             ],
             [
              0.3333333333333333,
              "#9c179e"
             ],
             [
              0.4444444444444444,
              "#bd3786"
             ],
             [
              0.5555555555555556,
              "#d8576b"
             ],
             [
              0.6666666666666666,
              "#ed7953"
             ],
             [
              0.7777777777777778,
              "#fb9f3a"
             ],
             [
              0.8888888888888888,
              "#fdca26"
             ],
             [
              1,
              "#f0f921"
             ]
            ],
            "type": "histogram2d"
           }
          ],
          "histogram2dcontour": [
           {
            "colorbar": {
             "outlinewidth": 0,
             "ticks": ""
            },
            "colorscale": [
             [
              0,
              "#0d0887"
             ],
             [
              0.1111111111111111,
              "#46039f"
             ],
             [
              0.2222222222222222,
              "#7201a8"
             ],
             [
              0.3333333333333333,
              "#9c179e"
             ],
             [
              0.4444444444444444,
              "#bd3786"
             ],
             [
              0.5555555555555556,
              "#d8576b"
             ],
             [
              0.6666666666666666,
              "#ed7953"
             ],
             [
              0.7777777777777778,
              "#fb9f3a"
             ],
             [
              0.8888888888888888,
              "#fdca26"
             ],
             [
              1,
              "#f0f921"
             ]
            ],
            "type": "histogram2dcontour"
           }
          ],
          "mesh3d": [
           {
            "colorbar": {
             "outlinewidth": 0,
             "ticks": ""
            },
            "type": "mesh3d"
           }
          ],
          "parcoords": [
           {
            "line": {
             "colorbar": {
              "outlinewidth": 0,
              "ticks": ""
             }
            },
            "type": "parcoords"
           }
          ],
          "pie": [
           {
            "automargin": true,
            "type": "pie"
           }
          ],
          "scatter": [
           {
            "fillpattern": {
             "fillmode": "overlay",
             "size": 10,
             "solidity": 0.2
            },
            "type": "scatter"
           }
          ],
          "scatter3d": [
           {
            "line": {
             "colorbar": {
              "outlinewidth": 0,
              "ticks": ""
             }
            },
            "marker": {
             "colorbar": {
              "outlinewidth": 0,
              "ticks": ""
             }
            },
            "type": "scatter3d"
           }
          ],
          "scattercarpet": [
           {
            "marker": {
             "colorbar": {
              "outlinewidth": 0,
              "ticks": ""
             }
            },
            "type": "scattercarpet"
           }
          ],
          "scattergeo": [
           {
            "marker": {
             "colorbar": {
              "outlinewidth": 0,
              "ticks": ""
             }
            },
            "type": "scattergeo"
           }
          ],
          "scattergl": [
           {
            "marker": {
             "colorbar": {
              "outlinewidth": 0,
              "ticks": ""
             }
            },
            "type": "scattergl"
           }
          ],
          "scattermapbox": [
           {
            "marker": {
             "colorbar": {
              "outlinewidth": 0,
              "ticks": ""
             }
            },
            "type": "scattermapbox"
           }
          ],
          "scatterpolar": [
           {
            "marker": {
             "colorbar": {
              "outlinewidth": 0,
              "ticks": ""
             }
            },
            "type": "scatterpolar"
           }
          ],
          "scatterpolargl": [
           {
            "marker": {
             "colorbar": {
              "outlinewidth": 0,
              "ticks": ""
             }
            },
            "type": "scatterpolargl"
           }
          ],
          "scatterternary": [
           {
            "marker": {
             "colorbar": {
              "outlinewidth": 0,
              "ticks": ""
             }
            },
            "type": "scatterternary"
           }
          ],
          "surface": [
           {
            "colorbar": {
             "outlinewidth": 0,
             "ticks": ""
            },
            "colorscale": [
             [
              0,
              "#0d0887"
             ],
             [
              0.1111111111111111,
              "#46039f"
             ],
             [
              0.2222222222222222,
              "#7201a8"
             ],
             [
              0.3333333333333333,
              "#9c179e"
             ],
             [
              0.4444444444444444,
              "#bd3786"
             ],
             [
              0.5555555555555556,
              "#d8576b"
             ],
             [
              0.6666666666666666,
              "#ed7953"
             ],
             [
              0.7777777777777778,
              "#fb9f3a"
             ],
             [
              0.8888888888888888,
              "#fdca26"
             ],
             [
              1,
              "#f0f921"
             ]
            ],
            "type": "surface"
           }
          ],
          "table": [
           {
            "cells": {
             "fill": {
              "color": "#EBF0F8"
             },
             "line": {
              "color": "white"
             }
            },
            "header": {
             "fill": {
              "color": "#C8D4E3"
             },
             "line": {
              "color": "white"
             }
            },
            "type": "table"
           }
          ]
         },
         "layout": {
          "annotationdefaults": {
           "arrowcolor": "#2a3f5f",
           "arrowhead": 0,
           "arrowwidth": 1
          },
          "autotypenumbers": "strict",
          "coloraxis": {
           "colorbar": {
            "outlinewidth": 0,
            "ticks": ""
           }
          },
          "colorscale": {
           "diverging": [
            [
             0,
             "#8e0152"
            ],
            [
             0.1,
             "#c51b7d"
            ],
            [
             0.2,
             "#de77ae"
            ],
            [
             0.3,
             "#f1b6da"
            ],
            [
             0.4,
             "#fde0ef"
            ],
            [
             0.5,
             "#f7f7f7"
            ],
            [
             0.6,
             "#e6f5d0"
            ],
            [
             0.7,
             "#b8e186"
            ],
            [
             0.8,
             "#7fbc41"
            ],
            [
             0.9,
             "#4d9221"
            ],
            [
             1,
             "#276419"
            ]
           ],
           "sequential": [
            [
             0,
             "#0d0887"
            ],
            [
             0.1111111111111111,
             "#46039f"
            ],
            [
             0.2222222222222222,
             "#7201a8"
            ],
            [
             0.3333333333333333,
             "#9c179e"
            ],
            [
             0.4444444444444444,
             "#bd3786"
            ],
            [
             0.5555555555555556,
             "#d8576b"
            ],
            [
             0.6666666666666666,
             "#ed7953"
            ],
            [
             0.7777777777777778,
             "#fb9f3a"
            ],
            [
             0.8888888888888888,
             "#fdca26"
            ],
            [
             1,
             "#f0f921"
            ]
           ],
           "sequentialminus": [
            [
             0,
             "#0d0887"
            ],
            [
             0.1111111111111111,
             "#46039f"
            ],
            [
             0.2222222222222222,
             "#7201a8"
            ],
            [
             0.3333333333333333,
             "#9c179e"
            ],
            [
             0.4444444444444444,
             "#bd3786"
            ],
            [
             0.5555555555555556,
             "#d8576b"
            ],
            [
             0.6666666666666666,
             "#ed7953"
            ],
            [
             0.7777777777777778,
             "#fb9f3a"
            ],
            [
             0.8888888888888888,
             "#fdca26"
            ],
            [
             1,
             "#f0f921"
            ]
           ]
          },
          "colorway": [
           "#636efa",
           "#EF553B",
           "#00cc96",
           "#ab63fa",
           "#FFA15A",
           "#19d3f3",
           "#FF6692",
           "#B6E880",
           "#FF97FF",
           "#FECB52"
          ],
          "font": {
           "color": "#2a3f5f"
          },
          "geo": {
           "bgcolor": "white",
           "lakecolor": "white",
           "landcolor": "#E5ECF6",
           "showlakes": true,
           "showland": true,
           "subunitcolor": "white"
          },
          "hoverlabel": {
           "align": "left"
          },
          "hovermode": "closest",
          "mapbox": {
           "style": "light"
          },
          "paper_bgcolor": "white",
          "plot_bgcolor": "#E5ECF6",
          "polar": {
           "angularaxis": {
            "gridcolor": "white",
            "linecolor": "white",
            "ticks": ""
           },
           "bgcolor": "#E5ECF6",
           "radialaxis": {
            "gridcolor": "white",
            "linecolor": "white",
            "ticks": ""
           }
          },
          "scene": {
           "xaxis": {
            "backgroundcolor": "#E5ECF6",
            "gridcolor": "white",
            "gridwidth": 2,
            "linecolor": "white",
            "showbackground": true,
            "ticks": "",
            "zerolinecolor": "white"
           },
           "yaxis": {
            "backgroundcolor": "#E5ECF6",
            "gridcolor": "white",
            "gridwidth": 2,
            "linecolor": "white",
            "showbackground": true,
            "ticks": "",
            "zerolinecolor": "white"
           },
           "zaxis": {
            "backgroundcolor": "#E5ECF6",
            "gridcolor": "white",
            "gridwidth": 2,
            "linecolor": "white",
            "showbackground": true,
            "ticks": "",
            "zerolinecolor": "white"
           }
          },
          "shapedefaults": {
           "line": {
            "color": "#2a3f5f"
           }
          },
          "ternary": {
           "aaxis": {
            "gridcolor": "white",
            "linecolor": "white",
            "ticks": ""
           },
           "baxis": {
            "gridcolor": "white",
            "linecolor": "white",
            "ticks": ""
           },
           "bgcolor": "#E5ECF6",
           "caxis": {
            "gridcolor": "white",
            "linecolor": "white",
            "ticks": ""
           }
          },
          "title": {
           "x": 0.05
          },
          "xaxis": {
           "automargin": true,
           "gridcolor": "white",
           "linecolor": "white",
           "ticks": "",
           "title": {
            "standoff": 15
           },
           "zerolinecolor": "white",
           "zerolinewidth": 2
          },
          "yaxis": {
           "automargin": true,
           "gridcolor": "white",
           "linecolor": "white",
           "ticks": "",
           "title": {
            "standoff": 15
           },
           "zerolinecolor": "white",
           "zerolinewidth": 2
          }
         }
        },
        "title": {
         "pad": {
          "b": 40,
          "l": 77
         },
         "text": "Electricity price (€/KWh) in Spain for Friday 16 December 2022 (CET)<br><span style=\"font-size: 14px\">Data source: Red Eléctrica de España</span>",
         "x": 0,
         "xanchor": "left",
         "y": 1,
         "yanchor": "bottom",
         "yref": "paper"
        },
        "xaxis": {
         "fixedrange": true,
         "gridcolor": "lightgrey",
         "linecolor": "black",
         "mirror": true,
         "showline": true,
         "tickangle": 45,
         "ticks": "outside",
         "title": {
          "text": "Time"
         }
        },
        "yaxis": {
         "fixedrange": true,
         "gridcolor": "lightgrey",
         "linecolor": "black",
         "mirror": true,
         "showline": true,
         "ticks": "outside",
         "title": {
          "text": "€/KWh"
         }
        }
       }
      },
      "text/html": [
       "<div>                            <div id=\"fe159fa0-54bf-48ae-ad32-4724ead42163\" class=\"plotly-graph-div\" style=\"height:525px; width:100%;\"></div>            <script type=\"text/javascript\">                require([\"plotly\"], function(Plotly) {                    window.PLOTLYENV=window.PLOTLYENV || {};                                    if (document.getElementById(\"fe159fa0-54bf-48ae-ad32-4724ead42163\")) {                    Plotly.newPlot(                        \"fe159fa0-54bf-48ae-ad32-4724ead42163\",                        [{\"hoverlabel\":{\"namelength\":0},\"hovertemplate\":\"<b>Spot Market</b><br>Time: &nbsp;%{x}<br>Price: &nbsp;%{y} \\u20ac/KWh\",\"line\":{\"color\":\"#2077b4\",\"width\":3},\"marker\":{\"color\":\"#2077b4\",\"size\":12},\"mode\":\"lines+markers+text\",\"name\":\"Spot Market price\",\"text\":[null,null,null,null,\"<b>MIN</b>\",null,null,null,null,null,null,null,null,null,null,null,null,null,null,null,\"<b>MAX</b>\",null,null,null],\"textfont\":{\"color\":\"#2077b4\"},\"textposition\":[\"top center\",\"top center\",\"top center\",\"top center\",\"bottom center\",\"top center\",\"top center\",\"top center\",\"top center\",\"top center\",\"top center\",\"top center\",\"top center\",\"top center\",\"top center\",\"top center\",\"top center\",\"top center\",\"top center\",\"top center\",\"top center\",\"top center\",\"top center\",\"top center\"],\"x\":[\"00:00\",\"01:00\",\"02:00\",\"03:00\",\"04:00\",\"05:00\",\"06:00\",\"07:00\",\"08:00\",\"09:00\",\"10:00\",\"11:00\",\"12:00\",\"13:00\",\"14:00\",\"15:00\",\"16:00\",\"17:00\",\"18:00\",\"19:00\",\"20:00\",\"21:00\",\"22:00\",\"23:00\"],\"y\":[0.13,0.12274,0.112,0.10368,0.101,0.10368,0.11101,0.12208,0.14,0.13482,0.1313,0.12274,0.12208,0.12208,0.11979,0.12208,0.14057,0.14234,0.15174,0.15422,0.15501,0.15,0.137,0.13482],\"type\":\"scatter\"},{\"hoverlabel\":{\"namelength\":0},\"hovertemplate\":\"<b>PVPC (Ceuta and Melilla)</b><br>Time: &nbsp;%{x}<br>Price: &nbsp;%{y} \\u20ac/KWh\",\"line\":{\"color\":\"#00a002\",\"width\":3},\"marker\":{\"color\":\"#00a002\",\"size\":12},\"mode\":\"lines+markers+text\",\"name\":\"<br>PVPC price<br>(Ceuta and Melilla)<br>\",\"text\":[null,null,null,null,\"<b>MIN</b>\",null,null,null,null,null,null,null,null,null,null,null,null,null,null,null,\"<b>MAX</b>\",null,null,null],\"textfont\":{\"color\":\"#00a002\"},\"textposition\":[\"top center\",\"top center\",\"top center\",\"top center\",\"bottom center\",\"top center\",\"top center\",\"top center\",\"top center\",\"top center\",\"top center\",\"top center\",\"top center\",\"top center\",\"top center\",\"top center\",\"top center\",\"top center\",\"top center\",\"top center\",\"top center\",\"top center\",\"top center\",\"top center\"],\"x\":[\"00:00\",\"01:00\",\"02:00\",\"03:00\",\"04:00\",\"05:00\",\"06:00\",\"07:00\",\"08:00\",\"09:00\",\"10:00\",\"11:00\",\"12:00\",\"13:00\",\"14:00\",\"15:00\",\"16:00\",\"17:00\",\"18:00\",\"19:00\",\"20:00\",\"21:00\",\"22:00\",\"23:00\"],\"y\":[0.22596,0.22066,0.21213,0.20442,0.19963,0.20195,0.20344,0.20205,0.24298,0.23432,0.22851,0.26729,0.26894,0.26987,0.26741,0.22618,0.25095,0.25233,0.26532,0.31664,0.31946,0.31755,0.3085,0.25885],\"type\":\"scatter\"},{\"hoverlabel\":{\"namelength\":0},\"hovertemplate\":\"<b>PVPC (Peninsula, Canarias and Baleares)</b><br>Time: &nbsp;%{x}<br>Price: &nbsp;%{y} \\u20ac/KWh\",\"line\":{\"color\":\"#ff8c00\",\"width\":3},\"marker\":{\"color\":\"#ff8c00\",\"size\":12},\"mode\":\"lines+markers+text\",\"name\":\"PVPC price<br>(Peninsula, Canarias<br>and Baleares)\",\"text\":[null,null,null,null,\"<b>MIN</b>\",null,null,null,null,null,null,null,null,null,null,null,null,null,null,null,\"<b>MAX</b>\",null,null,null],\"textfont\":{\"color\":\"#ff8c00\"},\"textposition\":[\"top center\",\"top center\",\"top center\",\"top center\",\"bottom center\",\"top center\",\"top center\",\"top center\",\"top center\",\"top center\",\"top center\",\"top center\",\"top center\",\"top center\",\"top center\",\"top center\",\"top center\",\"top center\",\"top center\",\"top center\",\"top center\",\"top center\",\"top center\",\"top center\"],\"x\":[\"00:00\",\"01:00\",\"02:00\",\"03:00\",\"04:00\",\"05:00\",\"06:00\",\"07:00\",\"08:00\",\"09:00\",\"10:00\",\"11:00\",\"12:00\",\"13:00\",\"14:00\",\"15:00\",\"16:00\",\"17:00\",\"18:00\",\"19:00\",\"20:00\",\"21:00\",\"22:00\",\"23:00\"],\"y\":[0.22596,0.22066,0.21213,0.20442,0.19963,0.20195,0.20344,0.20205,0.24298,0.23432,0.27658,0.26729,0.26894,0.26987,0.21938,0.22618,0.25095,0.25233,0.31351,0.31664,0.31946,0.31755,0.26012,0.25885],\"type\":\"scatter\"}],                        {\"template\":{\"data\":{\"histogram2dcontour\":[{\"type\":\"histogram2dcontour\",\"colorbar\":{\"outlinewidth\":0,\"ticks\":\"\"},\"colorscale\":[[0.0,\"#0d0887\"],[0.1111111111111111,\"#46039f\"],[0.2222222222222222,\"#7201a8\"],[0.3333333333333333,\"#9c179e\"],[0.4444444444444444,\"#bd3786\"],[0.5555555555555556,\"#d8576b\"],[0.6666666666666666,\"#ed7953\"],[0.7777777777777778,\"#fb9f3a\"],[0.8888888888888888,\"#fdca26\"],[1.0,\"#f0f921\"]]}],\"choropleth\":[{\"type\":\"choropleth\",\"colorbar\":{\"outlinewidth\":0,\"ticks\":\"\"}}],\"histogram2d\":[{\"type\":\"histogram2d\",\"colorbar\":{\"outlinewidth\":0,\"ticks\":\"\"},\"colorscale\":[[0.0,\"#0d0887\"],[0.1111111111111111,\"#46039f\"],[0.2222222222222222,\"#7201a8\"],[0.3333333333333333,\"#9c179e\"],[0.4444444444444444,\"#bd3786\"],[0.5555555555555556,\"#d8576b\"],[0.6666666666666666,\"#ed7953\"],[0.7777777777777778,\"#fb9f3a\"],[0.8888888888888888,\"#fdca26\"],[1.0,\"#f0f921\"]]}],\"heatmap\":[{\"type\":\"heatmap\",\"colorbar\":{\"outlinewidth\":0,\"ticks\":\"\"},\"colorscale\":[[0.0,\"#0d0887\"],[0.1111111111111111,\"#46039f\"],[0.2222222222222222,\"#7201a8\"],[0.3333333333333333,\"#9c179e\"],[0.4444444444444444,\"#bd3786\"],[0.5555555555555556,\"#d8576b\"],[0.6666666666666666,\"#ed7953\"],[0.7777777777777778,\"#fb9f3a\"],[0.8888888888888888,\"#fdca26\"],[1.0,\"#f0f921\"]]}],\"heatmapgl\":[{\"type\":\"heatmapgl\",\"colorbar\":{\"outlinewidth\":0,\"ticks\":\"\"},\"colorscale\":[[0.0,\"#0d0887\"],[0.1111111111111111,\"#46039f\"],[0.2222222222222222,\"#7201a8\"],[0.3333333333333333,\"#9c179e\"],[0.4444444444444444,\"#bd3786\"],[0.5555555555555556,\"#d8576b\"],[0.6666666666666666,\"#ed7953\"],[0.7777777777777778,\"#fb9f3a\"],[0.8888888888888888,\"#fdca26\"],[1.0,\"#f0f921\"]]}],\"contourcarpet\":[{\"type\":\"contourcarpet\",\"colorbar\":{\"outlinewidth\":0,\"ticks\":\"\"}}],\"contour\":[{\"type\":\"contour\",\"colorbar\":{\"outlinewidth\":0,\"ticks\":\"\"},\"colorscale\":[[0.0,\"#0d0887\"],[0.1111111111111111,\"#46039f\"],[0.2222222222222222,\"#7201a8\"],[0.3333333333333333,\"#9c179e\"],[0.4444444444444444,\"#bd3786\"],[0.5555555555555556,\"#d8576b\"],[0.6666666666666666,\"#ed7953\"],[0.7777777777777778,\"#fb9f3a\"],[0.8888888888888888,\"#fdca26\"],[1.0,\"#f0f921\"]]}],\"surface\":[{\"type\":\"surface\",\"colorbar\":{\"outlinewidth\":0,\"ticks\":\"\"},\"colorscale\":[[0.0,\"#0d0887\"],[0.1111111111111111,\"#46039f\"],[0.2222222222222222,\"#7201a8\"],[0.3333333333333333,\"#9c179e\"],[0.4444444444444444,\"#bd3786\"],[0.5555555555555556,\"#d8576b\"],[0.6666666666666666,\"#ed7953\"],[0.7777777777777778,\"#fb9f3a\"],[0.8888888888888888,\"#fdca26\"],[1.0,\"#f0f921\"]]}],\"mesh3d\":[{\"type\":\"mesh3d\",\"colorbar\":{\"outlinewidth\":0,\"ticks\":\"\"}}],\"scatter\":[{\"fillpattern\":{\"fillmode\":\"overlay\",\"size\":10,\"solidity\":0.2},\"type\":\"scatter\"}],\"parcoords\":[{\"type\":\"parcoords\",\"line\":{\"colorbar\":{\"outlinewidth\":0,\"ticks\":\"\"}}}],\"scatterpolargl\":[{\"type\":\"scatterpolargl\",\"marker\":{\"colorbar\":{\"outlinewidth\":0,\"ticks\":\"\"}}}],\"bar\":[{\"error_x\":{\"color\":\"#2a3f5f\"},\"error_y\":{\"color\":\"#2a3f5f\"},\"marker\":{\"line\":{\"color\":\"#E5ECF6\",\"width\":0.5},\"pattern\":{\"fillmode\":\"overlay\",\"size\":10,\"solidity\":0.2}},\"type\":\"bar\"}],\"scattergeo\":[{\"type\":\"scattergeo\",\"marker\":{\"colorbar\":{\"outlinewidth\":0,\"ticks\":\"\"}}}],\"scatterpolar\":[{\"type\":\"scatterpolar\",\"marker\":{\"colorbar\":{\"outlinewidth\":0,\"ticks\":\"\"}}}],\"histogram\":[{\"marker\":{\"pattern\":{\"fillmode\":\"overlay\",\"size\":10,\"solidity\":0.2}},\"type\":\"histogram\"}],\"scattergl\":[{\"type\":\"scattergl\",\"marker\":{\"colorbar\":{\"outlinewidth\":0,\"ticks\":\"\"}}}],\"scatter3d\":[{\"type\":\"scatter3d\",\"line\":{\"colorbar\":{\"outlinewidth\":0,\"ticks\":\"\"}},\"marker\":{\"colorbar\":{\"outlinewidth\":0,\"ticks\":\"\"}}}],\"scattermapbox\":[{\"type\":\"scattermapbox\",\"marker\":{\"colorbar\":{\"outlinewidth\":0,\"ticks\":\"\"}}}],\"scatterternary\":[{\"type\":\"scatterternary\",\"marker\":{\"colorbar\":{\"outlinewidth\":0,\"ticks\":\"\"}}}],\"scattercarpet\":[{\"type\":\"scattercarpet\",\"marker\":{\"colorbar\":{\"outlinewidth\":0,\"ticks\":\"\"}}}],\"carpet\":[{\"aaxis\":{\"endlinecolor\":\"#2a3f5f\",\"gridcolor\":\"white\",\"linecolor\":\"white\",\"minorgridcolor\":\"white\",\"startlinecolor\":\"#2a3f5f\"},\"baxis\":{\"endlinecolor\":\"#2a3f5f\",\"gridcolor\":\"white\",\"linecolor\":\"white\",\"minorgridcolor\":\"white\",\"startlinecolor\":\"#2a3f5f\"},\"type\":\"carpet\"}],\"table\":[{\"cells\":{\"fill\":{\"color\":\"#EBF0F8\"},\"line\":{\"color\":\"white\"}},\"header\":{\"fill\":{\"color\":\"#C8D4E3\"},\"line\":{\"color\":\"white\"}},\"type\":\"table\"}],\"barpolar\":[{\"marker\":{\"line\":{\"color\":\"#E5ECF6\",\"width\":0.5},\"pattern\":{\"fillmode\":\"overlay\",\"size\":10,\"solidity\":0.2}},\"type\":\"barpolar\"}],\"pie\":[{\"automargin\":true,\"type\":\"pie\"}]},\"layout\":{\"autotypenumbers\":\"strict\",\"colorway\":[\"#636efa\",\"#EF553B\",\"#00cc96\",\"#ab63fa\",\"#FFA15A\",\"#19d3f3\",\"#FF6692\",\"#B6E880\",\"#FF97FF\",\"#FECB52\"],\"font\":{\"color\":\"#2a3f5f\"},\"hovermode\":\"closest\",\"hoverlabel\":{\"align\":\"left\"},\"paper_bgcolor\":\"white\",\"plot_bgcolor\":\"#E5ECF6\",\"polar\":{\"bgcolor\":\"#E5ECF6\",\"angularaxis\":{\"gridcolor\":\"white\",\"linecolor\":\"white\",\"ticks\":\"\"},\"radialaxis\":{\"gridcolor\":\"white\",\"linecolor\":\"white\",\"ticks\":\"\"}},\"ternary\":{\"bgcolor\":\"#E5ECF6\",\"aaxis\":{\"gridcolor\":\"white\",\"linecolor\":\"white\",\"ticks\":\"\"},\"baxis\":{\"gridcolor\":\"white\",\"linecolor\":\"white\",\"ticks\":\"\"},\"caxis\":{\"gridcolor\":\"white\",\"linecolor\":\"white\",\"ticks\":\"\"}},\"coloraxis\":{\"colorbar\":{\"outlinewidth\":0,\"ticks\":\"\"}},\"colorscale\":{\"sequential\":[[0.0,\"#0d0887\"],[0.1111111111111111,\"#46039f\"],[0.2222222222222222,\"#7201a8\"],[0.3333333333333333,\"#9c179e\"],[0.4444444444444444,\"#bd3786\"],[0.5555555555555556,\"#d8576b\"],[0.6666666666666666,\"#ed7953\"],[0.7777777777777778,\"#fb9f3a\"],[0.8888888888888888,\"#fdca26\"],[1.0,\"#f0f921\"]],\"sequentialminus\":[[0.0,\"#0d0887\"],[0.1111111111111111,\"#46039f\"],[0.2222222222222222,\"#7201a8\"],[0.3333333333333333,\"#9c179e\"],[0.4444444444444444,\"#bd3786\"],[0.5555555555555556,\"#d8576b\"],[0.6666666666666666,\"#ed7953\"],[0.7777777777777778,\"#fb9f3a\"],[0.8888888888888888,\"#fdca26\"],[1.0,\"#f0f921\"]],\"diverging\":[[0,\"#8e0152\"],[0.1,\"#c51b7d\"],[0.2,\"#de77ae\"],[0.3,\"#f1b6da\"],[0.4,\"#fde0ef\"],[0.5,\"#f7f7f7\"],[0.6,\"#e6f5d0\"],[0.7,\"#b8e186\"],[0.8,\"#7fbc41\"],[0.9,\"#4d9221\"],[1,\"#276419\"]]},\"xaxis\":{\"gridcolor\":\"white\",\"linecolor\":\"white\",\"ticks\":\"\",\"title\":{\"standoff\":15},\"zerolinecolor\":\"white\",\"automargin\":true,\"zerolinewidth\":2},\"yaxis\":{\"gridcolor\":\"white\",\"linecolor\":\"white\",\"ticks\":\"\",\"title\":{\"standoff\":15},\"zerolinecolor\":\"white\",\"automargin\":true,\"zerolinewidth\":2},\"scene\":{\"xaxis\":{\"backgroundcolor\":\"#E5ECF6\",\"gridcolor\":\"white\",\"linecolor\":\"white\",\"showbackground\":true,\"ticks\":\"\",\"zerolinecolor\":\"white\",\"gridwidth\":2},\"yaxis\":{\"backgroundcolor\":\"#E5ECF6\",\"gridcolor\":\"white\",\"linecolor\":\"white\",\"showbackground\":true,\"ticks\":\"\",\"zerolinecolor\":\"white\",\"gridwidth\":2},\"zaxis\":{\"backgroundcolor\":\"#E5ECF6\",\"gridcolor\":\"white\",\"linecolor\":\"white\",\"showbackground\":true,\"ticks\":\"\",\"zerolinecolor\":\"white\",\"gridwidth\":2}},\"shapedefaults\":{\"line\":{\"color\":\"#2a3f5f\"}},\"annotationdefaults\":{\"arrowcolor\":\"#2a3f5f\",\"arrowhead\":0,\"arrowwidth\":1},\"geo\":{\"bgcolor\":\"white\",\"landcolor\":\"#E5ECF6\",\"subunitcolor\":\"white\",\"showland\":true,\"showlakes\":true,\"lakecolor\":\"white\"},\"title\":{\"x\":0.05},\"mapbox\":{\"style\":\"light\"}}},\"title\":{\"pad\":{\"l\":77,\"b\":40},\"text\":\"Electricity price (\\u20ac/KWh) in Spain for Friday 16 December 2022 (CET)<br><span style=\\\"font-size: 14px\\\">Data source: Red El\\u00e9ctrica de Espa\\u00f1a</span>\",\"yref\":\"paper\",\"y\":1,\"yanchor\":\"bottom\",\"x\":0,\"xanchor\":\"left\"},\"xaxis\":{\"title\":{\"text\":\"Time\"},\"fixedrange\":true,\"showline\":true,\"mirror\":true,\"linecolor\":\"black\",\"gridcolor\":\"lightgrey\",\"ticks\":\"outside\",\"tickangle\":45},\"yaxis\":{\"title\":{\"text\":\"\\u20ac/KWh\"},\"fixedrange\":true,\"showline\":true,\"mirror\":true,\"linecolor\":\"black\",\"gridcolor\":\"lightgrey\",\"ticks\":\"outside\"},\"legend\":{\"itemdoubleclick\":false},\"margin\":{\"t\":65},\"plot_bgcolor\":\"white\"},                        {\"displayModeBar\": false, \"responsive\": true}                    ).then(function(){\n",
       "                            \n",
       "var gd = document.getElementById('fe159fa0-54bf-48ae-ad32-4724ead42163');\n",
       "var x = new MutationObserver(function (mutations, observer) {{\n",
       "        var display = window.getComputedStyle(gd).display;\n",
       "        if (!display || display === 'none') {{\n",
       "            console.log([gd, 'removed!']);\n",
       "            Plotly.purge(gd);\n",
       "            observer.disconnect();\n",
       "        }}\n",
       "}});\n",
       "\n",
       "// Listen for the removal of the full notebook cells\n",
       "var notebookContainer = gd.closest('#notebook-container');\n",
       "if (notebookContainer) {{\n",
       "    x.observe(notebookContainer, {childList: true});\n",
       "}}\n",
       "\n",
       "// Listen for the clearing of the current output cell\n",
       "var outputEl = gd.closest('.output');\n",
       "if (outputEl) {{\n",
       "    x.observe(outputEl, {childList: true});\n",
       "}}\n",
       "\n",
       "                        })                };                });            </script>        </div>"
      ]
     },
     "metadata": {},
     "output_type": "display_data"
    }
   ],
   "source": [
    "fig = go.Figure()\n",
    "\n",
    "fig.update_layout(\n",
    "    title={\n",
    "        \"text\":\n",
    "            f'{title}<br><span style=\"font-size: 14px\">{source}</span>',\n",
    "        \"yref\": \"paper\",\n",
    "        \"y\": 1,\n",
    "        \"yanchor\": \"bottom\",\n",
    "        \"pad\": {\"l\": 77, \"b\": 40},\n",
    "        \"x\": 0,\n",
    "        \"xanchor\": \"left\"\n",
    "    },\n",
    "    plot_bgcolor=\"white\",\n",
    "    xaxis={\n",
    "        \"title\": \"Time\",\n",
    "        \"fixedrange\": True,\n",
    "        \"showline\": True,\n",
    "        \"mirror\": True,\n",
    "        \"linecolor\": \"black\",\n",
    "        \"gridcolor\": \"lightgrey\",\n",
    "        \"ticks\": \"outside\",\n",
    "        \"tickangle\": 45\n",
    "    },\n",
    "    yaxis={\n",
    "        \"title\": price_unit,\n",
    "        \"fixedrange\": True,\n",
    "        \"showline\": True,\n",
    "        \"mirror\": True,\n",
    "        \"linecolor\": \"black\",\n",
    "        \"gridcolor\": \"lightgrey\",\n",
    "        \"ticks\": \"outside\"\n",
    "    },\n",
    "    legend={\"itemdoubleclick\": False},\n",
    "    margin={\"t\": 65}\n",
    ")\n",
    "\n",
    "hover_tem = \"Time: &nbsp;%{x}<br>Price: &nbsp;%{y} \" + price_unit\n",
    "spot_hover_tem = \"<b>Spot Market</b><br>\" + hover_tem\n",
    "\n",
    "pvpc_pcb_hover_tem = (\n",
    "    \"<b>PVPC (Peninsula, Canarias and Baleares)</b><br>\" + hover_tem\n",
    ")\n",
    "\n",
    "pvpc_cm_hover_tem = \"<b>PVPC (Ceuta and Melilla)</b><br>\" + hover_tem\n",
    "\n",
    "# Spot market prices\n",
    "spot_sca = go.Scatter(\n",
    "    x=prices_df[\"time\"],\n",
    "    y=prices_df[\"spot_market\"],\n",
    "    mode=\"lines+markers+text\",\n",
    "    text=prices_df[\"spot_market_text\"],\n",
    "    line={\"width\": 3, \"color\": \"#2077b4\"},\n",
    "    marker={\"size\": 12, \"color\": \"#2077b4\"},\n",
    "    textposition=prices_df[\"spot_market_text_position\"],\n",
    "    textfont={\"color\": \"#2077b4\"},\n",
    "    name=\"Spot Market price\",\n",
    "    hovertemplate=spot_hover_tem,\n",
    "    hoverlabel={\"namelength\": 0}\n",
    ")\n",
    "\n",
    "# PVPC prices (Peninsula, Canarias and Baleares)\n",
    "pvpc_pcb_sca = go.Scatter(\n",
    "    x=prices_df[\"time\"],\n",
    "    y=prices_df[\"pvpc_pcb\"],\n",
    "    mode=\"lines+markers+text\",\n",
    "    text=prices_df[\"pvpc_pcb_text\"],\n",
    "    line={\"width\": 3, \"color\": \"#ff8c00\"},\n",
    "    marker={\"size\": 12, \"color\": \"#ff8c00\"},\n",
    "    textposition=prices_df[\"pvpc_pcb_text_position\"],\n",
    "    textfont={\"color\": \"#ff8c00\"},\n",
    "    name=\"PVPC price<br>(Peninsula, Canarias<br>and Baleares)\",\n",
    "    hovertemplate=pvpc_pcb_hover_tem,\n",
    "    hoverlabel={\"namelength\": 0}\n",
    ")\n",
    "\n",
    "# PVPC prices (Ceuta and Melilla)\n",
    "pvpc_cm_sca = go.Scatter(\n",
    "    x=prices_df[\"time\"],\n",
    "    y=prices_df[\"pvpc_cm\"],\n",
    "    mode=\"lines+markers+text\",\n",
    "    text=prices_df[\"pvpc_cm_text\"],\n",
    "    line={\"width\": 3, \"color\": \"#00a002\"},\n",
    "    marker={\"size\": 12, \"color\": \"#00a002\"},\n",
    "    textposition=prices_df[\"pvpc_cm_text_position\"],\n",
    "    textfont={\"color\": \"#00a002\"},\n",
    "    name=\"<br>PVPC price<br>(Ceuta and Melilla)<br>\",\n",
    "    hovertemplate=pvpc_cm_hover_tem,\n",
    "    hoverlabel={\"namelength\": 0}\n",
    ")\n",
    "\n",
    "fig.add_traces([spot_sca, pvpc_cm_sca, pvpc_pcb_sca])\n",
    "conf = {\"displayModeBar\": False}\n",
    "\n",
    "fig.show(config=conf)"
   ]
  }
 ],
 "metadata": {
  "kernelspec": {
   "display_name": "Python 3 (ipykernel)",
   "language": "python",
   "name": "python3"
  },
  "language_info": {
   "codemirror_mode": {
    "name": "ipython",
    "version": 3
   },
   "file_extension": ".py",
   "mimetype": "text/x-python",
   "name": "python",
   "nbconvert_exporter": "python",
   "pygments_lexer": "ipython3",
   "version": "3.9.2"
  }
 },
 "nbformat": 4,
 "nbformat_minor": 5
}
